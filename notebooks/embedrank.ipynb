{
 "cells": [
  {
   "cell_type": "code",
   "execution_count": 3,
   "metadata": {},
   "outputs": [
    {
     "name": "stdout",
     "output_type": "stream",
     "text": [
      "The autotime extension is already loaded. To reload it, use:\n",
      "  %reload_ext autotime\n",
      "time: 960 µs\n"
     ]
    }
   ],
   "source": [
    "%load_ext autotime"
   ]
  },
  {
   "cell_type": "code",
   "execution_count": 4,
   "metadata": {},
   "outputs": [
    {
     "name": "stdout",
     "output_type": "stream",
     "text": [
      "time: 641 µs\n"
     ]
    }
   ],
   "source": [
    "import sys\n",
    "sys.path.append('../')"
   ]
  },
  {
   "cell_type": "code",
   "execution_count": 5,
   "metadata": {},
   "outputs": [
    {
     "name": "stdout",
     "output_type": "stream",
     "text": [
      "time: 6.64 s\n"
     ]
    }
   ],
   "source": [
    "from IPython.display import display\n",
    "from pathlib import Path\n",
    "from wordcloud import WordCloud\n",
    "import matplotlib.pyplot as plt\n",
    "import numpy as np\n",
    "from nltk.tokenize import word_tokenize, sent_tokenize\n",
    "from nltk.corpus import PlaintextCorpusReader, stopwords\n",
    "from nltk import FreqDist\n",
    "import cytoolz as tlz\n",
    "import string\n",
    "import zipfile\n",
    "\n",
    "import seaborn as sns\n",
    "import spacy\n",
    "from spacy.tokens import Doc\n",
    "from scipy import sparse\n",
    "from nltk.stem import WordNetLemmatizer\n",
    "from nltk.data import ZipFilePathPointer\n",
    "from spacy.matcher import PhraseMatcher, Matcher\n",
    "from sklearn import feature_extraction as fe\n",
    "from textacy import Corpus\n",
    "from textacy.ke.textrank import textrank\n",
    "\n",
    "import tensorflow as tf\n",
    "import tensorflow_hub as hub\n",
    "\n",
    "import pandas as pd\n",
    "\n",
    "from keyword_extractor.extractors import TfIdfKeywordExtractor\n",
    "\n",
    "sns.set()"
   ]
  },
  {
   "cell_type": "code",
   "execution_count": 6,
   "metadata": {},
   "outputs": [
    {
     "name": "stdout",
     "output_type": "stream",
     "text": [
      "time: 1.76 ms\n"
     ]
    }
   ],
   "source": [
    "DATADIR = Path('../data')"
   ]
  },
  {
   "cell_type": "code",
   "execution_count": 21,
   "metadata": {},
   "outputs": [
    {
     "name": "stdout",
     "output_type": "stream",
     "text": [
      "time: 471 ms\n"
     ]
    }
   ],
   "source": [
    "nlp = spacy.load('en_core_web_sm')"
   ]
  },
  {
   "cell_type": "code",
   "execution_count": 22,
   "metadata": {},
   "outputs": [
    {
     "name": "stdout",
     "output_type": "stream",
     "text": [
      "time: 2.53 s\n"
     ]
    }
   ],
   "source": [
    "text_corpus = PlaintextCorpusReader(DATADIR.joinpath('text_corpus').as_posix(), 'doc.*\\.txt')\n",
    "english_stopwords = set(stopwords.words('english'))\n",
    "data = [(text_corpus.raw(fid), {'fileid': fid}) for fid in text_corpus.fileids()]\n",
    "corpus = Corpus(nlp, data)"
   ]
  },
  {
   "cell_type": "code",
   "execution_count": 67,
   "metadata": {},
   "outputs": [
    {
     "name": "stdout",
     "output_type": "stream",
     "text": [
      "time: 1.21 ms\n"
     ]
    }
   ],
   "source": [
    "MODEL_URL = {\n",
    "    'Transformer': 'https://tfhub.dev/google/universal-sentence-encoder-large/5',\n",
    "    'DAN': 'https://tfhub.dev/google/universal-sentence-encoder/4'\n",
    "}"
   ]
  },
  {
   "cell_type": "code",
   "execution_count": 268,
   "metadata": {},
   "outputs": [
    {
     "name": "stdout",
     "output_type": "stream",
     "text": [
      "time: 8.48 s\n"
     ]
    }
   ],
   "source": [
    "embed = hub.load(MODEL_URL['DAN'])"
   ]
  },
  {
   "cell_type": "code",
   "execution_count": 269,
   "metadata": {},
   "outputs": [
    {
     "name": "stdout",
     "output_type": "stream",
     "text": [
      "tf.Tensor(\n",
      "[[-0.03133018 -0.06338634 -0.01607502 ... -0.03242778 -0.04575741\n",
      "   0.05370456]\n",
      " [ 0.05080861 -0.01652428  0.01573781 ...  0.00976659  0.03170123\n",
      "   0.0178812 ]], shape=(2, 512), dtype=float32)\n",
      "time: 352 ms\n"
     ]
    }
   ],
   "source": [
    "embeddings = embed([\n",
    "    \"The quick brown fox jumps over the lazy dog.\",\n",
    "    \"I am a sentence for which I would like to get its embedding\"])\n",
    "\n",
    "print(embeddings)"
   ]
  },
  {
   "cell_type": "code",
   "execution_count": 270,
   "metadata": {},
   "outputs": [
    {
     "name": "stdout",
     "output_type": "stream",
     "text": [
      "time: 1.09 ms\n"
     ]
    }
   ],
   "source": [
    "doc = corpus[-1]"
   ]
  },
  {
   "cell_type": "code",
   "execution_count": 271,
   "metadata": {},
   "outputs": [
    {
     "name": "stdout",
     "output_type": "stream",
     "text": [
      "time: 7.42 ms\n"
     ]
    }
   ],
   "source": [
    "noun_chunks = list({nc.text for nc in doc.noun_chunks})"
   ]
  },
  {
   "cell_type": "code",
   "execution_count": 272,
   "metadata": {},
   "outputs": [
    {
     "name": "stdout",
     "output_type": "stream",
     "text": [
      "time: 13.9 ms\n"
     ]
    }
   ],
   "source": [
    "doc_embedding = embed([doc.text]).numpy()"
   ]
  },
  {
   "cell_type": "code",
   "execution_count": 273,
   "metadata": {},
   "outputs": [
    {
     "data": {
      "text/plain": [
       "1.0"
      ]
     },
     "execution_count": 273,
     "metadata": {},
     "output_type": "execute_result"
    },
    {
     "name": "stdout",
     "output_type": "stream",
     "text": [
      "time: 2.86 ms\n"
     ]
    }
   ],
   "source": [
    "len(set(noun_chunks)) / len(noun_chunks)"
   ]
  },
  {
   "cell_type": "code",
   "execution_count": 274,
   "metadata": {},
   "outputs": [
    {
     "name": "stdout",
     "output_type": "stream",
     "text": [
      "time: 18.5 ms\n"
     ]
    }
   ],
   "source": [
    "candidate_embeddings = embed(noun_chunks).numpy()"
   ]
  },
  {
   "cell_type": "code",
   "execution_count": 275,
   "metadata": {},
   "outputs": [
    {
     "name": "stdout",
     "output_type": "stream",
     "text": [
      "time: 1.65 ms\n"
     ]
    }
   ],
   "source": [
    "similiarities = doc_embedding.dot(candidate_embeddings.T).flatten()"
   ]
  },
  {
   "cell_type": "code",
   "execution_count": 276,
   "metadata": {},
   "outputs": [
    {
     "name": "stdout",
     "output_type": "stream",
     "text": [
      "time: 1.11 ms\n"
     ]
    }
   ],
   "source": [
    "argsorted = np.argsort(similiarities)"
   ]
  },
  {
   "cell_type": "code",
   "execution_count": 277,
   "metadata": {},
   "outputs": [
    {
     "name": "stdout",
     "output_type": "stream",
     "text": [
      "time: 1.44 ms\n"
     ]
    }
   ],
   "source": [
    "topn = 15\n",
    "top_kw_idx = np.flip(argsorted[-topn:])"
   ]
  },
  {
   "cell_type": "code",
   "execution_count": 278,
   "metadata": {},
   "outputs": [
    {
     "data": {
      "text/plain": [
       "array([335, 318,  17,   8, 303, 201, 251, 336,  96, 328, 154, 168,  65,\n",
       "       210,  66])"
      ]
     },
     "metadata": {},
     "output_type": "display_data"
    },
    {
     "data": {
      "text/plain": [
       "array([0.3616948 , 0.33865315, 0.32892054, 0.32784045, 0.31540003,\n",
       "       0.31468648, 0.30139074, 0.29434103, 0.27571428, 0.2685988 ,\n",
       "       0.25075483, 0.25062177, 0.24531764, 0.23816955, 0.23635092],\n",
       "      dtype=float32)"
      ]
     },
     "metadata": {},
     "output_type": "display_data"
    },
    {
     "data": {
      "text/plain": [
       "['former Soviet weapons scientists',\n",
       " 'the Soviet biological weapons program',\n",
       " 'biological weapons threat reduction programs',\n",
       " 'improvised nuclear weapons',\n",
       " 'nuclear weapons',\n",
       " \"the world's most dangerous weapons\",\n",
       " 'the nuclear, chemical, and biological weapons',\n",
       " 'nuclear, biological, and chemical weapons',\n",
       " 'the Cold War',\n",
       " 'a nuclear weapon',\n",
       " 'the deadliest weapons',\n",
       " 'highly enriched uranium',\n",
       " 'these dangerous weapons',\n",
       " 'civilian reactors',\n",
       " 'Soviet-supplied, civilian research reactors']"
      ]
     },
     "metadata": {},
     "output_type": "display_data"
    },
    {
     "name": "stdout",
     "output_type": "stream",
     "text": [
      "time: 8.12 ms\n"
     ]
    }
   ],
   "source": [
    "display(top_kw_idx)\n",
    "display(similiarities[top_kw_idx])\n",
    "display([noun_chunks[i] for i in top_kw_idx])"
   ]
  },
  {
   "cell_type": "code",
   "execution_count": 279,
   "metadata": {},
   "outputs": [
    {
     "name": "stdout",
     "output_type": "stream",
     "text": [
      "time: 1.24 ms\n"
     ]
    }
   ],
   "source": [
    "def min_max_scale(a):\n",
    "     return (a - a.min()) / (a.max() - a.min())"
   ]
  },
  {
   "cell_type": "code",
   "execution_count": 280,
   "metadata": {},
   "outputs": [
    {
     "name": "stdout",
     "output_type": "stream",
     "text": [
      "time: 2.94 ms\n"
     ]
    }
   ],
   "source": [
    "candidate_similarities = candidate_embeddings.dot(candidate_embeddings.T)\n",
    "candidate_similarities = candidate_similarities - np.diag(candidate_embeddings) * np.eye(candidate_embeddings.shape[0])"
   ]
  },
  {
   "cell_type": "code",
   "execution_count": 281,
   "metadata": {},
   "outputs": [
    {
     "name": "stdout",
     "output_type": "stream",
     "text": [
      "time: 2.57 ms\n"
     ]
    }
   ],
   "source": [
    "norm_candidate_similarities = min_max_scale(candidate_similarities)\n",
    "max_sim_by_candidate  = norm_candidate_similarities.max(axis=1)"
   ]
  },
  {
   "cell_type": "code",
   "execution_count": 282,
   "metadata": {},
   "outputs": [
    {
     "name": "stdout",
     "output_type": "stream",
     "text": [
      "time: 1.01 ms\n"
     ]
    }
   ],
   "source": [
    "norm_similarities = min_max_scale(similiarities)"
   ]
  },
  {
   "cell_type": "code",
   "execution_count": 283,
   "metadata": {},
   "outputs": [
    {
     "name": "stdout",
     "output_type": "stream",
     "text": [
      "time: 1.08 ms\n"
     ]
    }
   ],
   "source": [
    "l = 0.5\n",
    "marginal_relevance = l * norm_similarities - (1-l) * max_sim_by_candidate"
   ]
  },
  {
   "cell_type": "code",
   "execution_count": 284,
   "metadata": {},
   "outputs": [
    {
     "name": "stdout",
     "output_type": "stream",
     "text": [
      "time: 2.44 ms\n"
     ]
    }
   ],
   "source": [
    "def cosine_similarity(a1, a2):\n",
    "    return a1.dot(a2.T)\n",
    "\n",
    "def get_marginal_relevance(candidate_embeddings, doc_embedding, l=0.5):\n",
    "    similiarities = doc_embedding.dot(candidate_embeddings.T).flatten()\n",
    "    scaled_similarities = min_max_scale(similiarities)\n",
    "    norm_similarities = normalize_importances(scaled_similarities)\n",
    "    \n",
    "    candidate_similarities = candidate_embeddings.dot(candidate_embeddings.T)\n",
    "    candidate_similarities = candidate_similarities - np.diag(candidate_embeddings) * np.eye(candidate_embeddings.shape[0])\n",
    "    scaled_candidate_similarities = min_max_scale(candidate_similarities)\n",
    "    norm_candidate_similarities = normalize_importances(scaled_candidate_similarities)\n",
    "\n",
    "    max_sim_by_candidate  = norm_candidate_similarities.max(axis=0)\n",
    "    \n",
    "    marginal_relevance = l * norm_similarities - (1-l) * max_sim_by_candidate\n",
    "    return marginal_relevance\n",
    "\n",
    "def normalize_importances(importances):\n",
    "    return 0.5 + (importances - importances.mean()) / importances.std()\n"
   ]
  },
  {
   "cell_type": "code",
   "execution_count": 285,
   "metadata": {},
   "outputs": [
    {
     "name": "stdout",
     "output_type": "stream",
     "text": [
      "time: 5.56 ms\n"
     ]
    }
   ],
   "source": [
    "marginal_relevance = get_marginal_relevance(candidate_embeddings, doc_embedding, 0.5)"
   ]
  },
  {
   "cell_type": "code",
   "execution_count": 286,
   "metadata": {},
   "outputs": [
    {
     "name": "stdout",
     "output_type": "stream",
     "text": [
      "time: 1.28 ms\n"
     ]
    }
   ],
   "source": [
    "def show_top_keywords(candidates, scores, topn):\n",
    "    argsorted = np.argsort(scores)\n",
    "    top_kw_idx = np.flip(argsorted[-topn:])\n",
    "#     display(top_kw_idx)\n",
    "#     display(scores[top_kw_idx])\n",
    "#     display([candidates[i] for i in top_kw_idx])\n",
    "    top_scores = scores[top_kw_idx]\n",
    "    keywords = [candidates[i] for i in top_kw_idx]\n",
    "    display(pd.DataFrame({'keyword': keywords, 'score': top_scores}))\n",
    "#     for i, kw, score in zip(top_kw_idx, scores, keywords):\n",
    "#         print(f'* i: {i}, score: {score}, keyword: {kw}')"
   ]
  },
  {
   "cell_type": "code",
   "execution_count": 287,
   "metadata": {},
   "outputs": [
    {
     "data": {
      "text/html": [
       "<div>\n",
       "<style scoped>\n",
       "    .dataframe tbody tr th:only-of-type {\n",
       "        vertical-align: middle;\n",
       "    }\n",
       "\n",
       "    .dataframe tbody tr th {\n",
       "        vertical-align: top;\n",
       "    }\n",
       "\n",
       "    .dataframe thead th {\n",
       "        text-align: right;\n",
       "    }\n",
       "</style>\n",
       "<table border=\"1\" class=\"dataframe\">\n",
       "  <thead>\n",
       "    <tr style=\"text-align: right;\">\n",
       "      <th></th>\n",
       "      <th>keyword</th>\n",
       "      <th>score</th>\n",
       "    </tr>\n",
       "  </thead>\n",
       "  <tbody>\n",
       "    <tr>\n",
       "      <th>0</th>\n",
       "      <td>former Soviet weapons scientists</td>\n",
       "      <td>0.361695</td>\n",
       "    </tr>\n",
       "    <tr>\n",
       "      <th>1</th>\n",
       "      <td>the Soviet biological weapons program</td>\n",
       "      <td>0.338653</td>\n",
       "    </tr>\n",
       "    <tr>\n",
       "      <th>2</th>\n",
       "      <td>biological weapons threat reduction programs</td>\n",
       "      <td>0.328921</td>\n",
       "    </tr>\n",
       "    <tr>\n",
       "      <th>3</th>\n",
       "      <td>improvised nuclear weapons</td>\n",
       "      <td>0.327840</td>\n",
       "    </tr>\n",
       "    <tr>\n",
       "      <th>4</th>\n",
       "      <td>nuclear weapons</td>\n",
       "      <td>0.315400</td>\n",
       "    </tr>\n",
       "    <tr>\n",
       "      <th>5</th>\n",
       "      <td>the world's most dangerous weapons</td>\n",
       "      <td>0.314686</td>\n",
       "    </tr>\n",
       "    <tr>\n",
       "      <th>6</th>\n",
       "      <td>the nuclear, chemical, and biological weapons</td>\n",
       "      <td>0.301391</td>\n",
       "    </tr>\n",
       "    <tr>\n",
       "      <th>7</th>\n",
       "      <td>nuclear, biological, and chemical weapons</td>\n",
       "      <td>0.294341</td>\n",
       "    </tr>\n",
       "    <tr>\n",
       "      <th>8</th>\n",
       "      <td>the Cold War</td>\n",
       "      <td>0.275714</td>\n",
       "    </tr>\n",
       "    <tr>\n",
       "      <th>9</th>\n",
       "      <td>a nuclear weapon</td>\n",
       "      <td>0.268599</td>\n",
       "    </tr>\n",
       "    <tr>\n",
       "      <th>10</th>\n",
       "      <td>the deadliest weapons</td>\n",
       "      <td>0.250755</td>\n",
       "    </tr>\n",
       "    <tr>\n",
       "      <th>11</th>\n",
       "      <td>highly enriched uranium</td>\n",
       "      <td>0.250622</td>\n",
       "    </tr>\n",
       "    <tr>\n",
       "      <th>12</th>\n",
       "      <td>these dangerous weapons</td>\n",
       "      <td>0.245318</td>\n",
       "    </tr>\n",
       "    <tr>\n",
       "      <th>13</th>\n",
       "      <td>civilian reactors</td>\n",
       "      <td>0.238170</td>\n",
       "    </tr>\n",
       "    <tr>\n",
       "      <th>14</th>\n",
       "      <td>Soviet-supplied, civilian research reactors</td>\n",
       "      <td>0.236351</td>\n",
       "    </tr>\n",
       "  </tbody>\n",
       "</table>\n",
       "</div>"
      ],
      "text/plain": [
       "                                          keyword     score\n",
       "0                former Soviet weapons scientists  0.361695\n",
       "1           the Soviet biological weapons program  0.338653\n",
       "2    biological weapons threat reduction programs  0.328921\n",
       "3                      improvised nuclear weapons  0.327840\n",
       "4                                 nuclear weapons  0.315400\n",
       "5              the world's most dangerous weapons  0.314686\n",
       "6   the nuclear, chemical, and biological weapons  0.301391\n",
       "7       nuclear, biological, and chemical weapons  0.294341\n",
       "8                                    the Cold War  0.275714\n",
       "9                                a nuclear weapon  0.268599\n",
       "10                          the deadliest weapons  0.250755\n",
       "11                        highly enriched uranium  0.250622\n",
       "12                        these dangerous weapons  0.245318\n",
       "13                              civilian reactors  0.238170\n",
       "14    Soviet-supplied, civilian research reactors  0.236351"
      ]
     },
     "metadata": {},
     "output_type": "display_data"
    },
    {
     "name": "stdout",
     "output_type": "stream",
     "text": [
      "time: 7.86 ms\n"
     ]
    }
   ],
   "source": [
    "show_top_keywords(noun_chunks, similiarities, 15)"
   ]
  },
  {
   "cell_type": "code",
   "execution_count": 288,
   "metadata": {},
   "outputs": [
    {
     "data": {
      "text/html": [
       "<div>\n",
       "<style scoped>\n",
       "    .dataframe tbody tr th:only-of-type {\n",
       "        vertical-align: middle;\n",
       "    }\n",
       "\n",
       "    .dataframe tbody tr th {\n",
       "        vertical-align: top;\n",
       "    }\n",
       "\n",
       "    .dataframe thead th {\n",
       "        text-align: right;\n",
       "    }\n",
       "</style>\n",
       "<table border=\"1\" class=\"dataframe\">\n",
       "  <thead>\n",
       "    <tr style=\"text-align: right;\">\n",
       "      <th></th>\n",
       "      <th>keyword</th>\n",
       "      <th>score</th>\n",
       "    </tr>\n",
       "  </thead>\n",
       "  <tbody>\n",
       "    <tr>\n",
       "      <th>0</th>\n",
       "      <td>former Soviet weapons scientists</td>\n",
       "      <td>-1.458852</td>\n",
       "    </tr>\n",
       "    <tr>\n",
       "      <th>1</th>\n",
       "      <td>the Soviet biological weapons program</td>\n",
       "      <td>-1.478876</td>\n",
       "    </tr>\n",
       "    <tr>\n",
       "      <th>2</th>\n",
       "      <td>nuclear, biological, and chemical weapons</td>\n",
       "      <td>-1.589511</td>\n",
       "    </tr>\n",
       "    <tr>\n",
       "      <th>3</th>\n",
       "      <td>nuclear weapons</td>\n",
       "      <td>-1.755292</td>\n",
       "    </tr>\n",
       "    <tr>\n",
       "      <th>4</th>\n",
       "      <td>the Cold War</td>\n",
       "      <td>-1.839976</td>\n",
       "    </tr>\n",
       "    <tr>\n",
       "      <th>5</th>\n",
       "      <td>the nuclear, chemical, and biological weapons</td>\n",
       "      <td>-1.917356</td>\n",
       "    </tr>\n",
       "    <tr>\n",
       "      <th>6</th>\n",
       "      <td>improvised nuclear weapons</td>\n",
       "      <td>-1.935032</td>\n",
       "    </tr>\n",
       "    <tr>\n",
       "      <th>7</th>\n",
       "      <td>biological weapons threat reduction programs</td>\n",
       "      <td>-1.949645</td>\n",
       "    </tr>\n",
       "    <tr>\n",
       "      <th>8</th>\n",
       "      <td>a nuclear weapon</td>\n",
       "      <td>-1.965364</td>\n",
       "    </tr>\n",
       "    <tr>\n",
       "      <th>9</th>\n",
       "      <td>the world's most dangerous weapons</td>\n",
       "      <td>-2.009738</td>\n",
       "    </tr>\n",
       "    <tr>\n",
       "      <th>10</th>\n",
       "      <td>these weapons</td>\n",
       "      <td>-2.093062</td>\n",
       "    </tr>\n",
       "    <tr>\n",
       "      <th>11</th>\n",
       "      <td>this proliferation threat</td>\n",
       "      <td>-2.114186</td>\n",
       "    </tr>\n",
       "    <tr>\n",
       "      <th>12</th>\n",
       "      <td>the deadliest weapons</td>\n",
       "      <td>-2.136535</td>\n",
       "    </tr>\n",
       "    <tr>\n",
       "      <th>13</th>\n",
       "      <td>these dangerous weapons</td>\n",
       "      <td>-2.143277</td>\n",
       "    </tr>\n",
       "    <tr>\n",
       "      <th>14</th>\n",
       "      <td>discernible security</td>\n",
       "      <td>-2.150531</td>\n",
       "    </tr>\n",
       "  </tbody>\n",
       "</table>\n",
       "</div>"
      ],
      "text/plain": [
       "                                          keyword     score\n",
       "0                former Soviet weapons scientists -1.458852\n",
       "1           the Soviet biological weapons program -1.478876\n",
       "2       nuclear, biological, and chemical weapons -1.589511\n",
       "3                                 nuclear weapons -1.755292\n",
       "4                                    the Cold War -1.839976\n",
       "5   the nuclear, chemical, and biological weapons -1.917356\n",
       "6                      improvised nuclear weapons -1.935032\n",
       "7    biological weapons threat reduction programs -1.949645\n",
       "8                                a nuclear weapon -1.965364\n",
       "9              the world's most dangerous weapons -2.009738\n",
       "10                                  these weapons -2.093062\n",
       "11                      this proliferation threat -2.114186\n",
       "12                          the deadliest weapons -2.136535\n",
       "13                        these dangerous weapons -2.143277\n",
       "14                           discernible security -2.150531"
      ]
     },
     "metadata": {},
     "output_type": "display_data"
    },
    {
     "name": "stdout",
     "output_type": "stream",
     "text": [
      "time: 9.19 ms\n"
     ]
    }
   ],
   "source": [
    "show_top_keywords(noun_chunks, marginal_relevance, 15)"
   ]
  },
  {
   "cell_type": "markdown",
   "metadata": {},
   "source": [
    "### Chunking the document\n",
    "We are going to split the document in half to reduce the amount of information the encoder has to attend."
   ]
  },
  {
   "cell_type": "code",
   "execution_count": 289,
   "metadata": {},
   "outputs": [
    {
     "name": "stdout",
     "output_type": "stream",
     "text": [
      "time: 1.11 ms\n"
     ]
    }
   ],
   "source": [
    "sents = list(doc.sents)"
   ]
  },
  {
   "cell_type": "code",
   "execution_count": 290,
   "metadata": {},
   "outputs": [
    {
     "name": "stdout",
     "output_type": "stream",
     "text": [
      "time: 1.04 ms\n"
     ]
    }
   ],
   "source": [
    "mid = int(len(sents) / 2)"
   ]
  },
  {
   "cell_type": "code",
   "execution_count": 291,
   "metadata": {},
   "outputs": [
    {
     "name": "stdout",
     "output_type": "stream",
     "text": [
      "time: 3.07 ms\n"
     ]
    }
   ],
   "source": [
    "head, tail = sents[:mid], sents[mid:]\n",
    "head_text = ' '.join([sent.text for sent in head])\n",
    "tail_text = ' '.join([sent.text for sent in tail])"
   ]
  },
  {
   "cell_type": "code",
   "execution_count": 292,
   "metadata": {},
   "outputs": [
    {
     "name": "stdout",
     "output_type": "stream",
     "text": [
      "time: 14.9 ms\n"
     ]
    }
   ],
   "source": [
    "head_embedding = embed([head_text]).numpy()\n",
    "tail_embedding = embed([tail_text]).numpy()"
   ]
  },
  {
   "cell_type": "code",
   "execution_count": 293,
   "metadata": {},
   "outputs": [
    {
     "name": "stdout",
     "output_type": "stream",
     "text": [
      "time: 1.57 ms\n"
     ]
    }
   ],
   "source": [
    "head_similiarities = head_embedding.dot(candidate_embeddings.T).flatten()\n",
    "tail_similiarities = tail_embedding.dot(candidate_embeddings.T).flatten()"
   ]
  },
  {
   "cell_type": "code",
   "execution_count": 294,
   "metadata": {},
   "outputs": [
    {
     "data": {
      "text/html": [
       "<div>\n",
       "<style scoped>\n",
       "    .dataframe tbody tr th:only-of-type {\n",
       "        vertical-align: middle;\n",
       "    }\n",
       "\n",
       "    .dataframe tbody tr th {\n",
       "        vertical-align: top;\n",
       "    }\n",
       "\n",
       "    .dataframe thead th {\n",
       "        text-align: right;\n",
       "    }\n",
       "</style>\n",
       "<table border=\"1\" class=\"dataframe\">\n",
       "  <thead>\n",
       "    <tr style=\"text-align: right;\">\n",
       "      <th></th>\n",
       "      <th>keyword</th>\n",
       "      <th>score</th>\n",
       "    </tr>\n",
       "  </thead>\n",
       "  <tbody>\n",
       "    <tr>\n",
       "      <th>0</th>\n",
       "      <td>improvised nuclear weapons</td>\n",
       "      <td>0.396719</td>\n",
       "    </tr>\n",
       "    <tr>\n",
       "      <th>1</th>\n",
       "      <td>former Soviet weapons scientists</td>\n",
       "      <td>0.382709</td>\n",
       "    </tr>\n",
       "    <tr>\n",
       "      <th>2</th>\n",
       "      <td>nuclear weapons</td>\n",
       "      <td>0.382109</td>\n",
       "    </tr>\n",
       "    <tr>\n",
       "      <th>3</th>\n",
       "      <td>the world's most dangerous weapons</td>\n",
       "      <td>0.362242</td>\n",
       "    </tr>\n",
       "    <tr>\n",
       "      <th>4</th>\n",
       "      <td>the Soviet biological weapons program</td>\n",
       "      <td>0.357044</td>\n",
       "    </tr>\n",
       "    <tr>\n",
       "      <th>5</th>\n",
       "      <td>biological weapons threat reduction programs</td>\n",
       "      <td>0.349947</td>\n",
       "    </tr>\n",
       "    <tr>\n",
       "      <th>6</th>\n",
       "      <td>the nuclear, chemical, and biological weapons</td>\n",
       "      <td>0.344930</td>\n",
       "    </tr>\n",
       "    <tr>\n",
       "      <th>7</th>\n",
       "      <td>nuclear, biological, and chemical weapons</td>\n",
       "      <td>0.339674</td>\n",
       "    </tr>\n",
       "    <tr>\n",
       "      <th>8</th>\n",
       "      <td>a nuclear weapon</td>\n",
       "      <td>0.332664</td>\n",
       "    </tr>\n",
       "    <tr>\n",
       "      <th>9</th>\n",
       "      <td>highly enriched uranium</td>\n",
       "      <td>0.298978</td>\n",
       "    </tr>\n",
       "    <tr>\n",
       "      <th>10</th>\n",
       "      <td>the deadliest weapons</td>\n",
       "      <td>0.296247</td>\n",
       "    </tr>\n",
       "    <tr>\n",
       "      <th>11</th>\n",
       "      <td>civilian reactors</td>\n",
       "      <td>0.280733</td>\n",
       "    </tr>\n",
       "    <tr>\n",
       "      <th>12</th>\n",
       "      <td>the Cold War</td>\n",
       "      <td>0.273684</td>\n",
       "    </tr>\n",
       "    <tr>\n",
       "      <th>13</th>\n",
       "      <td>these dangerous weapons</td>\n",
       "      <td>0.269272</td>\n",
       "    </tr>\n",
       "    <tr>\n",
       "      <th>14</th>\n",
       "      <td>Soviet-supplied, civilian research reactors</td>\n",
       "      <td>0.268347</td>\n",
       "    </tr>\n",
       "  </tbody>\n",
       "</table>\n",
       "</div>"
      ],
      "text/plain": [
       "                                          keyword     score\n",
       "0                      improvised nuclear weapons  0.396719\n",
       "1                former Soviet weapons scientists  0.382709\n",
       "2                                 nuclear weapons  0.382109\n",
       "3              the world's most dangerous weapons  0.362242\n",
       "4           the Soviet biological weapons program  0.357044\n",
       "5    biological weapons threat reduction programs  0.349947\n",
       "6   the nuclear, chemical, and biological weapons  0.344930\n",
       "7       nuclear, biological, and chemical weapons  0.339674\n",
       "8                                a nuclear weapon  0.332664\n",
       "9                         highly enriched uranium  0.298978\n",
       "10                          the deadliest weapons  0.296247\n",
       "11                              civilian reactors  0.280733\n",
       "12                                   the Cold War  0.273684\n",
       "13                        these dangerous weapons  0.269272\n",
       "14    Soviet-supplied, civilian research reactors  0.268347"
      ]
     },
     "metadata": {},
     "output_type": "display_data"
    },
    {
     "data": {
      "text/html": [
       "<div>\n",
       "<style scoped>\n",
       "    .dataframe tbody tr th:only-of-type {\n",
       "        vertical-align: middle;\n",
       "    }\n",
       "\n",
       "    .dataframe tbody tr th {\n",
       "        vertical-align: top;\n",
       "    }\n",
       "\n",
       "    .dataframe thead th {\n",
       "        text-align: right;\n",
       "    }\n",
       "</style>\n",
       "<table border=\"1\" class=\"dataframe\">\n",
       "  <thead>\n",
       "    <tr style=\"text-align: right;\">\n",
       "      <th></th>\n",
       "      <th>keyword</th>\n",
       "      <th>score</th>\n",
       "    </tr>\n",
       "  </thead>\n",
       "  <tbody>\n",
       "    <tr>\n",
       "      <th>0</th>\n",
       "      <td>former Soviet weapons scientists</td>\n",
       "      <td>0.330695</td>\n",
       "    </tr>\n",
       "    <tr>\n",
       "      <th>1</th>\n",
       "      <td>the Soviet biological weapons program</td>\n",
       "      <td>0.323326</td>\n",
       "    </tr>\n",
       "    <tr>\n",
       "      <th>2</th>\n",
       "      <td>biological weapons threat reduction programs</td>\n",
       "      <td>0.287705</td>\n",
       "    </tr>\n",
       "    <tr>\n",
       "      <th>3</th>\n",
       "      <td>the Cold War</td>\n",
       "      <td>0.261209</td>\n",
       "    </tr>\n",
       "    <tr>\n",
       "      <th>4</th>\n",
       "      <td>even the zealous Russian border guard</td>\n",
       "      <td>0.253303</td>\n",
       "    </tr>\n",
       "    <tr>\n",
       "      <th>5</th>\n",
       "      <td>the former Soviet Union</td>\n",
       "      <td>0.249836</td>\n",
       "    </tr>\n",
       "    <tr>\n",
       "      <th>6</th>\n",
       "      <td>the world's most dangerous weapons</td>\n",
       "      <td>0.236315</td>\n",
       "    </tr>\n",
       "    <tr>\n",
       "      <th>7</th>\n",
       "      <td>Russian meddling</td>\n",
       "      <td>0.232863</td>\n",
       "    </tr>\n",
       "    <tr>\n",
       "      <th>8</th>\n",
       "      <td>improvised nuclear weapons</td>\n",
       "      <td>0.232249</td>\n",
       "    </tr>\n",
       "    <tr>\n",
       "      <th>9</th>\n",
       "      <td>discernible security</td>\n",
       "      <td>0.228499</td>\n",
       "    </tr>\n",
       "    <tr>\n",
       "      <th>10</th>\n",
       "      <td>the nuclear, chemical, and biological weapons</td>\n",
       "      <td>0.227449</td>\n",
       "    </tr>\n",
       "    <tr>\n",
       "      <th>11</th>\n",
       "      <td>nuclear, biological, and chemical weapons</td>\n",
       "      <td>0.223768</td>\n",
       "    </tr>\n",
       "    <tr>\n",
       "      <th>12</th>\n",
       "      <td>improved medical countermeasures</td>\n",
       "      <td>0.220384</td>\n",
       "    </tr>\n",
       "    <tr>\n",
       "      <th>13</th>\n",
       "      <td>nuclear weapons</td>\n",
       "      <td>0.214483</td>\n",
       "    </tr>\n",
       "    <tr>\n",
       "      <th>14</th>\n",
       "      <td>the Soviet Union</td>\n",
       "      <td>0.213511</td>\n",
       "    </tr>\n",
       "  </tbody>\n",
       "</table>\n",
       "</div>"
      ],
      "text/plain": [
       "                                          keyword     score\n",
       "0                former Soviet weapons scientists  0.330695\n",
       "1           the Soviet biological weapons program  0.323326\n",
       "2    biological weapons threat reduction programs  0.287705\n",
       "3                                    the Cold War  0.261209\n",
       "4           even the zealous Russian border guard  0.253303\n",
       "5                         the former Soviet Union  0.249836\n",
       "6              the world's most dangerous weapons  0.236315\n",
       "7                                Russian meddling  0.232863\n",
       "8                      improvised nuclear weapons  0.232249\n",
       "9                            discernible security  0.228499\n",
       "10  the nuclear, chemical, and biological weapons  0.227449\n",
       "11      nuclear, biological, and chemical weapons  0.223768\n",
       "12               improved medical countermeasures  0.220384\n",
       "13                                nuclear weapons  0.214483\n",
       "14                               the Soviet Union  0.213511"
      ]
     },
     "metadata": {},
     "output_type": "display_data"
    },
    {
     "name": "stdout",
     "output_type": "stream",
     "text": [
      "time: 15.3 ms\n"
     ]
    }
   ],
   "source": [
    "show_top_keywords(noun_chunks, head_similiarities, 15)\n",
    "show_top_keywords(noun_chunks, tail_similiarities, 15)"
   ]
  },
  {
   "cell_type": "code",
   "execution_count": 295,
   "metadata": {},
   "outputs": [
    {
     "name": "stdout",
     "output_type": "stream",
     "text": [
      "time: 10.4 ms\n"
     ]
    }
   ],
   "source": [
    "l = 0.1\n",
    "head_marginal_relevance = get_marginal_relevance(candidate_embeddings, head_embedding, l)\n",
    "tail_marginal_relevance = get_marginal_relevance(candidate_embeddings, tail_embedding, l)"
   ]
  },
  {
   "cell_type": "code",
   "execution_count": 296,
   "metadata": {},
   "outputs": [
    {
     "data": {
      "text/html": [
       "<div>\n",
       "<style scoped>\n",
       "    .dataframe tbody tr th:only-of-type {\n",
       "        vertical-align: middle;\n",
       "    }\n",
       "\n",
       "    .dataframe tbody tr th {\n",
       "        vertical-align: top;\n",
       "    }\n",
       "\n",
       "    .dataframe thead th {\n",
       "        text-align: right;\n",
       "    }\n",
       "</style>\n",
       "<table border=\"1\" class=\"dataframe\">\n",
       "  <thead>\n",
       "    <tr style=\"text-align: right;\">\n",
       "      <th></th>\n",
       "      <th>keyword</th>\n",
       "      <th>score</th>\n",
       "    </tr>\n",
       "  </thead>\n",
       "  <tbody>\n",
       "    <tr>\n",
       "      <th>0</th>\n",
       "      <td>nuclear, biological, and chemical weapons</td>\n",
       "      <td>-5.401329</td>\n",
       "    </tr>\n",
       "    <tr>\n",
       "      <th>1</th>\n",
       "      <td>this proliferation threat</td>\n",
       "      <td>-5.435826</td>\n",
       "    </tr>\n",
       "    <tr>\n",
       "      <th>2</th>\n",
       "      <td>biological threat reduction</td>\n",
       "      <td>-5.485261</td>\n",
       "    </tr>\n",
       "    <tr>\n",
       "      <th>3</th>\n",
       "      <td>these weapons</td>\n",
       "      <td>-5.540659</td>\n",
       "    </tr>\n",
       "    <tr>\n",
       "      <th>4</th>\n",
       "      <td>U.S. interests</td>\n",
       "      <td>-5.550962</td>\n",
       "    </tr>\n",
       "    <tr>\n",
       "      <th>5</th>\n",
       "      <td>town</td>\n",
       "      <td>-5.624581</td>\n",
       "    </tr>\n",
       "    <tr>\n",
       "      <th>6</th>\n",
       "      <td>two areas</td>\n",
       "      <td>-5.636030</td>\n",
       "    </tr>\n",
       "    <tr>\n",
       "      <th>7</th>\n",
       "      <td>security</td>\n",
       "      <td>-5.636514</td>\n",
       "    </tr>\n",
       "    <tr>\n",
       "      <th>8</th>\n",
       "      <td>a model</td>\n",
       "      <td>-5.639540</td>\n",
       "    </tr>\n",
       "    <tr>\n",
       "      <th>9</th>\n",
       "      <td>despotic regimes</td>\n",
       "      <td>-5.644756</td>\n",
       "    </tr>\n",
       "    <tr>\n",
       "      <th>10</th>\n",
       "      <td>mass destruction</td>\n",
       "      <td>-5.658101</td>\n",
       "    </tr>\n",
       "    <tr>\n",
       "      <th>11</th>\n",
       "      <td>senior officials</td>\n",
       "      <td>-5.662673</td>\n",
       "    </tr>\n",
       "    <tr>\n",
       "      <th>12</th>\n",
       "      <td>the Soviet biological weapons program</td>\n",
       "      <td>-5.663307</td>\n",
       "    </tr>\n",
       "    <tr>\n",
       "      <th>13</th>\n",
       "      <td>the devastation</td>\n",
       "      <td>-5.670287</td>\n",
       "    </tr>\n",
       "    <tr>\n",
       "      <th>14</th>\n",
       "      <td>these efforts</td>\n",
       "      <td>-5.691208</td>\n",
       "    </tr>\n",
       "  </tbody>\n",
       "</table>\n",
       "</div>"
      ],
      "text/plain": [
       "                                      keyword     score\n",
       "0   nuclear, biological, and chemical weapons -5.401329\n",
       "1                   this proliferation threat -5.435826\n",
       "2                 biological threat reduction -5.485261\n",
       "3                               these weapons -5.540659\n",
       "4                              U.S. interests -5.550962\n",
       "5                                        town -5.624581\n",
       "6                                   two areas -5.636030\n",
       "7                                    security -5.636514\n",
       "8                                     a model -5.639540\n",
       "9                            despotic regimes -5.644756\n",
       "10                           mass destruction -5.658101\n",
       "11                           senior officials -5.662673\n",
       "12      the Soviet biological weapons program -5.663307\n",
       "13                            the devastation -5.670287\n",
       "14                              these efforts -5.691208"
      ]
     },
     "metadata": {},
     "output_type": "display_data"
    },
    {
     "data": {
      "text/html": [
       "<div>\n",
       "<style scoped>\n",
       "    .dataframe tbody tr th:only-of-type {\n",
       "        vertical-align: middle;\n",
       "    }\n",
       "\n",
       "    .dataframe tbody tr th {\n",
       "        vertical-align: top;\n",
       "    }\n",
       "\n",
       "    .dataframe thead th {\n",
       "        text-align: right;\n",
       "    }\n",
       "</style>\n",
       "<table border=\"1\" class=\"dataframe\">\n",
       "  <thead>\n",
       "    <tr style=\"text-align: right;\">\n",
       "      <th></th>\n",
       "      <th>keyword</th>\n",
       "      <th>score</th>\n",
       "    </tr>\n",
       "  </thead>\n",
       "  <tbody>\n",
       "    <tr>\n",
       "      <th>0</th>\n",
       "      <td>this proliferation threat</td>\n",
       "      <td>-5.459572</td>\n",
       "    </tr>\n",
       "    <tr>\n",
       "      <th>1</th>\n",
       "      <td>biological threat reduction</td>\n",
       "      <td>-5.481570</td>\n",
       "    </tr>\n",
       "    <tr>\n",
       "      <th>2</th>\n",
       "      <td>nuclear, biological, and chemical weapons</td>\n",
       "      <td>-5.482782</td>\n",
       "    </tr>\n",
       "    <tr>\n",
       "      <th>3</th>\n",
       "      <td>U.S. interests</td>\n",
       "      <td>-5.521677</td>\n",
       "    </tr>\n",
       "    <tr>\n",
       "      <th>4</th>\n",
       "      <td>senior officials</td>\n",
       "      <td>-5.566259</td>\n",
       "    </tr>\n",
       "    <tr>\n",
       "      <th>5</th>\n",
       "      <td>despotic regimes</td>\n",
       "      <td>-5.583289</td>\n",
       "    </tr>\n",
       "    <tr>\n",
       "      <th>6</th>\n",
       "      <td>these weapons</td>\n",
       "      <td>-5.603049</td>\n",
       "    </tr>\n",
       "    <tr>\n",
       "      <th>7</th>\n",
       "      <td>the Soviet biological weapons program</td>\n",
       "      <td>-5.636947</td>\n",
       "    </tr>\n",
       "    <tr>\n",
       "      <th>8</th>\n",
       "      <td>two areas</td>\n",
       "      <td>-5.645697</td>\n",
       "    </tr>\n",
       "    <tr>\n",
       "      <th>9</th>\n",
       "      <td>security</td>\n",
       "      <td>-5.646102</td>\n",
       "    </tr>\n",
       "    <tr>\n",
       "      <th>10</th>\n",
       "      <td>the Russians</td>\n",
       "      <td>-5.648995</td>\n",
       "    </tr>\n",
       "    <tr>\n",
       "      <th>11</th>\n",
       "      <td>these efforts</td>\n",
       "      <td>-5.649935</td>\n",
       "    </tr>\n",
       "    <tr>\n",
       "      <th>12</th>\n",
       "      <td>our children</td>\n",
       "      <td>-5.656992</td>\n",
       "    </tr>\n",
       "    <tr>\n",
       "      <th>13</th>\n",
       "      <td>My third recommendation</td>\n",
       "      <td>-5.668011</td>\n",
       "    </tr>\n",
       "    <tr>\n",
       "      <th>14</th>\n",
       "      <td>their best interest</td>\n",
       "      <td>-5.669719</td>\n",
       "    </tr>\n",
       "  </tbody>\n",
       "</table>\n",
       "</div>"
      ],
      "text/plain": [
       "                                      keyword     score\n",
       "0                   this proliferation threat -5.459572\n",
       "1                 biological threat reduction -5.481570\n",
       "2   nuclear, biological, and chemical weapons -5.482782\n",
       "3                              U.S. interests -5.521677\n",
       "4                            senior officials -5.566259\n",
       "5                            despotic regimes -5.583289\n",
       "6                               these weapons -5.603049\n",
       "7       the Soviet biological weapons program -5.636947\n",
       "8                                   two areas -5.645697\n",
       "9                                    security -5.646102\n",
       "10                               the Russians -5.648995\n",
       "11                              these efforts -5.649935\n",
       "12                               our children -5.656992\n",
       "13                    My third recommendation -5.668011\n",
       "14                        their best interest -5.669719"
      ]
     },
     "metadata": {},
     "output_type": "display_data"
    },
    {
     "name": "stdout",
     "output_type": "stream",
     "text": [
      "time: 15 ms\n"
     ]
    }
   ],
   "source": [
    "show_top_keywords(noun_chunks, head_marginal_relevance, 15)\n",
    "show_top_keywords(noun_chunks, tail_marginal_relevance, 15)"
   ]
  },
  {
   "cell_type": "code",
   "execution_count": null,
   "metadata": {},
   "outputs": [],
   "source": []
  }
 ],
 "metadata": {
  "kernelspec": {
   "display_name": "Python 3",
   "language": "python",
   "name": "python3"
  },
  "language_info": {
   "codemirror_mode": {
    "name": "ipython",
    "version": 3
   },
   "file_extension": ".py",
   "mimetype": "text/x-python",
   "name": "python",
   "nbconvert_exporter": "python",
   "pygments_lexer": "ipython3",
   "version": "3.7.0"
  }
 },
 "nbformat": 4,
 "nbformat_minor": 4
}
